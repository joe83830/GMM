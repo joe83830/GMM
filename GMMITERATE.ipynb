{
 "cells": [
  {
   "cell_type": "code",
   "execution_count": 14,
   "metadata": {},
   "outputs": [
    {
     "name": "stdout",
     "output_type": "stream",
     "text": [
      "[13, 7, 8, 13, 10, 7, 11, 8, 7, 6, 7, 8, 7, 13, 8, 16, 6, 12, 9, 5, 9, 9, 14, 4, 7, 12, 12, 6, 9, 6, 11, 7, 6, 10, 6, 11, 8, 9, 7, 8, 8, 7, 9, 11, 10, 8, 16, 5, 5, 14]\n"
     ]
    },
    {
     "data": {
      "text/plain": [
       "[None, None, None, None]"
      ]
     },
     "execution_count": 14,
     "metadata": {},
     "output_type": "execute_result"
    },
    {
     "data": {
      "image/png": "[encoded data removed]",
      "text/plain": [
       "<matplotlib.figure.Figure at 0x7f143049b438>"
      ]
     },
     "metadata": {},
     "output_type": "display_data"
    }
   ],
   "source": [
    "import numpy as np\n",
    "import matplotlib.pyplot as plt\n",
    "from scipy.stats import multivariate_normal\n",
    "import random\n",
    "from sklearn.cluster import KMeans\n",
    "%matplotlib inline\n",
    "\n",
    "#Part 1a, Parse each file\n",
    "data = np.loadtxt('oldG.txt');\n",
    "\n",
    "eruptions = data[:, 1]\n",
    "wait_time = data[:, 2]\n",
    "plt.xlabel(\"Eruption\")\n",
    "plt.ylabel(\"Wait-time\")\n",
    "plt.scatter(eruptions, wait_time)\n",
    "\n",
    "allData = np.array([eruptions,wait_time])\n",
    "\n",
    "post_prob_1 = np.empty(len(eruptions))\n",
    "post_prob_2 = np.empty(len(eruptions))\n",
    "def GMMiteration(mean1, mean2, cov1, cov2):\n",
    "    for i in range(len(eruptions)):\n",
    "        post_prob_1[i] = multivariate_normal.pdf([eruptions[i],wait_time[i]], mean1, cov1)\n",
    "        post_prob_2[i] = multivariate_normal.pdf([eruptions[i],wait_time[i]], mean2, cov2)\n",
    "    \n",
    "    check = np.sum((post_prob_1+post_prob_2) == 0)\n",
    "    while (check > 0):\n",
    "        mean1 = np.array([random.uniform(min(eruptions), max(eruptions)), random.uniform(min(wait_time), max(wait_time))])\n",
    "        mean2 = np.array([random.uniform(min(eruptions), max(eruptions)), random.uniform(min(wait_time), max(wait_time))])\n",
    "        \n",
    "        for i in range(len(eruptions)):\n",
    "            post_prob_1[i] = multivariate_normal.pdf([eruptions[i],wait_time[i]], mean1, cov1)\n",
    "            post_prob_2[i] = multivariate_normal.pdf([eruptions[i],wait_time[i]], mean2, cov2)\n",
    "        \n",
    "        check = np.sum((post_prob_1+post_prob_2) == 0)\n",
    "\n",
    "    class1_prob = post_prob_1 / (post_prob_1 + post_prob_2)\n",
    "    class2_prob = post_prob_2 / (post_prob_1 + post_prob_2)\n",
    "    \n",
    "    class1_erup_mean = np.sum(class1_prob * eruptions) / np.sum(class1_prob)\n",
    "    class1_wait_mean = np.sum(class1_prob * wait_time) / np.sum(class1_prob)\n",
    "    class2_erup_mean = np.sum(class2_prob * eruptions) / np.sum(class2_prob)\n",
    "    class2_wait_mean = np.sum(class2_prob * wait_time) / np.sum(class2_prob)\n",
    "    \n",
    "    class1_mean = np.array([class1_erup_mean, class1_wait_mean])\n",
    "    class2_mean = np.array([class2_erup_mean, class2_wait_mean])\n",
    "    \n",
    "    cov_1 = np.cov(allData, aweights= class1_prob)\n",
    "    cov_2 = np.cov(allData, aweights= class2_prob)\n",
    "    \n",
    "    \n",
    "    return class1_mean, class2_mean, cov_1, cov_2\n",
    "\n",
    "termination = []\n",
    "for j in range(50):\n",
    "    mean1 = np.array([random.uniform(min(eruptions), max(eruptions)), random.uniform(min(wait_time), max(wait_time))])\n",
    "    mean2 = np.array([random.uniform(min(eruptions), max(eruptions)), random.uniform(min(wait_time), max(wait_time))])\n",
    "    cov1 = np.array([[1,0],[0,1]])\n",
    "    cov2 = np.array([[1,0],[0,1]])\n",
    "    \n",
    "    m1_vec_x = []\n",
    "    m1_vec_y = []\n",
    "    m2_vec_x = []\n",
    "    m2_vec_y = []\n",
    "    \n",
    "    m1_vec_x.append(mean1[0])\n",
    "    m1_vec_y.append(mean1[1])\n",
    "    for i in range(100):\n",
    "        mean1, mean2, cov1, cov2 = GMMiteration(mean1,mean2,cov1,cov2)\n",
    "        m1_vec_x.append(mean1[0])\n",
    "        m1_vec_y.append(mean1[1])\n",
    "        m2_vec_x.append(mean2[0])\n",
    "        m2_vec_y.append(mean2[1])\n",
    "    \n",
    "        if (i == 0):\n",
    "            continue\n",
    "        if abs(m1_vec_x[i] - m1_vec_x[i - 1])/m1_vec_x[i] < 0.0001 and abs(m1_vec_y[i] - m1_vec_y[i - 1])/m1_vec_y[i] < 0.0001 and abs(m2_vec_x[i] - m2_vec_x[i - 1])/m2_vec_x[i] < 0.0001 and abs(m2_vec_y[i] - m2_vec_y[i - 1])/m2_vec_y[i] < 0.0001:\n",
    "            termination.append(i)\n",
    "            break\n",
    "\n",
    "\n",
    "print(termination)\n",
    "    \n",
    "#plt.close()\n",
    "lines = plt.plot(m1_vec_x, m1_vec_y, m2_vec_x, m2_vec_y)\n",
    "plt.setp(lines, color='r', linewidth=3.0)\n"
   ]
  },
  {
   "cell_type": "code",
   "execution_count": 23,
   "metadata": {},
   "outputs": [
    {
     "data": {
      "text/plain": [
       "(array([ 4.,  6.,  9.,  8.,  6.,  7.,  3.,  3.,  2.,  2.]),\n",
       " array([  4. ,   5.2,   6.4,   7.6,   8.8,  10. ,  11.2,  12.4,  13.6,\n",
       "         14.8,  16. ]),\n",
       " <a list of 10 Patch objects>)"
      ]
     },
     "execution_count": 23,
     "metadata": {},
     "output_type": "execute_result"
    },
    {
     "data": {
      "image/png": "[encoded data removed]",
      "text/plain": [
       "<matplotlib.figure.Figure at 0x7f143072c390>"
      ]
     },
     "metadata": {},
     "output_type": "display_data"
    }
   ],
   "source": [
    "plt.hist(termination, rwidth=0.5)"
   ]
  },
  {
   "cell_type": "code",
   "execution_count": null,
   "metadata": {
    "collapsed": true
   },
   "outputs": [],
   "source": []
  },
  {
   "cell_type": "code",
   "execution_count": 45,
   "metadata": {},
   "outputs": [
    {
     "data": {
      "text/plain": [
       "KMeans(algorithm='auto', copy_x=True, init='k-means++', max_iter=300,\n",
       "    n_clusters=2, n_init=10, n_jobs=1, precompute_distances='auto',\n",
       "    random_state=None, tol=0.0001, verbose=0)"
      ]
     },
     "execution_count": 45,
     "metadata": {},
     "output_type": "execute_result"
    }
   ],
   "source": [
    "kmeans = KMeans(n_clusters=2)\n",
    "kmeans.fit(data[:,[1,2]])"
   ]
  },
  {
   "cell_type": "code",
   "execution_count": 46,
   "metadata": {},
   "outputs": [
    {
     "name": "stdout",
     "output_type": "stream",
     "text": [
      "[[  0.15583707   0.99561869]\n",
      " [  0.99561869  34.75505051]]\n",
      "[[  0.17865587   0.76756385]\n",
      " [  0.76756385  31.66690466]]\n",
      "[  2.09433  54.75   ]\n",
      "[  4.29793023  80.28488372]\n"
     ]
    }
   ],
   "source": [
    "mean1, mean2 = kmeans.cluster_centers_\n",
    "\n",
    "cov1 = np.cov(allData ,aweights=kmeans.labels_)\n",
    "\n",
    "cov2 = np.cov(allData, aweights=(1 - kmeans.labels_))\n",
    "print(cov1)\n",
    "print(cov2)\n",
    "print(ctd1)\n",
    "print(ctd2)\n"
   ]
  },
  {
   "cell_type": "code",
   "execution_count": 47,
   "metadata": {},
   "outputs": [
    {
     "name": "stdout",
     "output_type": "stream",
     "text": [
      "[4]\n"
     ]
    },
    {
     "data": {
      "text/plain": [
       "[None, None, None, None]"
      ]
     },
     "execution_count": 47,
     "metadata": {},
     "output_type": "execute_result"
    },
    {
     "data": {
      "image/png": "[encoded data removed]",
      "text/plain": [
       "<matplotlib.figure.Figure at 0x7f1430612160>"
      ]
     },
     "metadata": {},
     "output_type": "display_data"
    }
   ],
   "source": [
    "termination = []\n",
    "\n",
    "#     mean1 = np.array([random.uniform(min(eruptions), max(eruptions)), random.uniform(min(wait_time), max(wait_time))])\n",
    "#     mean2 = np.array([random.uniform(min(eruptions), max(eruptions)), random.uniform(min(wait_time), max(wait_time))])\n",
    "#     cov1 = np.array([[1,0],[0,1]])\n",
    "#     cov2 = np.array([[1,0],[0,1]])\n",
    "    \n",
    "m1_vec_x = []\n",
    "m1_vec_y = []\n",
    "m2_vec_x = []\n",
    "m2_vec_y = []\n",
    "    \n",
    "m1_vec_x.append(mean1[0])\n",
    "m1_vec_y.append(mean1[1])\n",
    "for i in range(100):\n",
    "    mean1, mean2, cov1, cov2 = GMMiteration(mean1,mean2,cov1,cov2)\n",
    "    m1_vec_x.append(mean1[0])\n",
    "    m1_vec_y.append(mean1[1])\n",
    "    m2_vec_x.append(mean2[0])\n",
    "    m2_vec_y.append(mean2[1])\n",
    "    \n",
    "    if (i == 0):\n",
    "        continue\n",
    "    if abs(m1_vec_x[i] - m1_vec_x[i - 1])/m1_vec_x[i] < 0.0001 and abs(m1_vec_y[i] - m1_vec_y[i - 1])/m1_vec_y[i] < 0.0001 and abs(m2_vec_x[i] - m2_vec_x[i - 1])/m2_vec_x[i] < 0.0001 and abs(m2_vec_y[i] - m2_vec_y[i - 1])/m2_vec_y[i] < 0.0001:\n",
    "        termination.append(i)\n",
    "        break\n",
    "\n",
    "\n",
    "print(termination)\n",
    "\n",
    "\n",
    "eruptions = data[:, 1]\n",
    "wait_time = data[:, 2]\n",
    "plt.xlabel(\"Eruption\")\n",
    "plt.ylabel(\"Wait-time\")\n",
    "plt.scatter(eruptions, wait_time)\n",
    "lines = plt.plot(m1_vec_x, m1_vec_y, m2_vec_x, m2_vec_y)\n",
    "plt.setp(lines, color='r', linewidth=3.0)"
   ]
  },
  {
   "cell_type": "code",
   "execution_count": 43,
   "metadata": {},
   "outputs": [
    {
     "name": "stdout",
     "output_type": "stream",
     "text": [
      "[  2.09433  54.75   ]\n",
      "[  4.29793023  80.28488372]\n"
     ]
    }
   ],
   "source": [
    "print(ctd1)\n",
    "print(ctd2)"
   ]
  },
  {
   "cell_type": "code",
   "execution_count": 44,
   "metadata": {},
   "outputs": [
    {
     "data": {
      "text/plain": [
       "(array([ 49.,   0.,   0.,   0.,   0.,   0.,   0.,   0.,   0.,   1.]),\n",
       " array([ 1. ,  1.3,  1.6,  1.9,  2.2,  2.5,  2.8,  3.1,  3.4,  3.7,  4. ]),\n",
       " <a list of 10 Patch objects>)"
      ]
     },
     "execution_count": 44,
     "metadata": {},
     "output_type": "execute_result"
    },
    {
     "data": {
      "image/png": "[encoded data removed]",
      "text/plain": [
       "<matplotlib.figure.Figure at 0x7f1430463630>"
      ]
     },
     "metadata": {},
     "output_type": "display_data"
    }
   ],
   "source": [
    "plt.hist(termination, rwidth=0.5)"
   ]
  },
  {
   "cell_type": "code",
   "execution_count": 29,
   "metadata": {},
   "outputs": [
    {
     "data": {
      "text/plain": [
       "[10,\n",
       " 16,\n",
       " 14,\n",
       " 6,\n",
       " 8,\n",
       " 7,\n",
       " 6,\n",
       " 9,\n",
       " 10,\n",
       " 14,\n",
       " 13,\n",
       " 11,\n",
       " 16,\n",
       " 8,\n",
       " 14,\n",
       " 5,\n",
       " 9,\n",
       " 6,\n",
       " 13,\n",
       " 8,\n",
       " 9,\n",
       " 9,\n",
       " 7,\n",
       " 6,\n",
       " 15,\n",
       " 11,\n",
       " 8,\n",
       " 13,\n",
       " 10,\n",
       " 15,\n",
       " 9,\n",
       " 11,\n",
       " 13,\n",
       " 8,\n",
       " 4,\n",
       " 6,\n",
       " 6,\n",
       " 10,\n",
       " 8,\n",
       " 12,\n",
       " 9,\n",
       " 15,\n",
       " 10,\n",
       " 8,\n",
       " 4,\n",
       " 7,\n",
       " 9,\n",
       " 5,\n",
       " 5,\n",
       " 5]"
      ]
     },
     "execution_count": 29,
     "metadata": {},
     "output_type": "execute_result"
    }
   ],
   "source": [
    "termination"
   ]
  },
  {
   "cell_type": "code",
   "execution_count": null,
   "metadata": {
    "collapsed": true
   },
   "outputs": [],
   "source": []
  }
 ],
 "metadata": {
  "kernelspec": {
   "display_name": "Python 3",
   "language": "python",
   "name": "python3"
  },
  "language_info": {
   "codemirror_mode": {
    "name": "ipython",
    "version": 3
   },
   "file_extension": ".py",
   "mimetype": "text/x-python",
   "name": "python",
   "nbconvert_exporter": "python",
   "pygments_lexer": "ipython3",
   "version": "3.6.1"
  }
 },
 "nbformat": 4,
 "nbformat_minor": 2
}
